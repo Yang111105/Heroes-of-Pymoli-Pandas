{
 "cells": [
  {
   "cell_type": "markdown",
   "metadata": {},
   "source": [
    "### Note\n",
    "* Instructions have been included for each segment. You do not have to follow them exactly, but they are included to help you think through the steps."
   ]
  },
  {
   "cell_type": "code",
   "execution_count": null,
   "metadata": {},
   "outputs": [],
   "source": [
    "# Dependencies and Setup\n",
    "import pandas as pd\n",
    "import warnings\n",
    "warnings.simplefilter(action='ignore', category=FutureWarning)\n",
    "\n",
    "# File to Load (Remember to Change These)\n",
    "file_to_load = \"Resources/purchase_data.csv\"\n",
    "\n",
    "# Read Purchasing File and store into Pandas data frame\n",
    "purchase_data = pd.read_csv(file_to_load)\n",
    "purchase_data.head()"
   ]
  },
  {
   "cell_type": "markdown",
   "metadata": {},
   "source": [
    "## Player Count"
   ]
  },
  {
   "cell_type": "markdown",
   "metadata": {},
   "source": [
    "* Display the total number of players\n"
   ]
  },
  {
   "cell_type": "code",
   "execution_count": null,
   "metadata": {},
   "outputs": [],
   "source": [
    "total_player = len(purchase_data['SN'].unique())\n",
    "pd.DataFrame({\"Total Players\":[total_player]})"
   ]
  },
  {
   "cell_type": "markdown",
   "metadata": {},
   "source": [
    "## Purchasing Analysis (Total)"
   ]
  },
  {
   "cell_type": "markdown",
   "metadata": {},
   "source": [
    "* Run basic calculations to obtain number of unique items, average price, etc.\n",
    "\n",
    "\n",
    "* Create a summary data frame to hold the results\n",
    "\n",
    "\n",
    "* Optional: give the displayed data cleaner formatting\n",
    "\n",
    "\n",
    "* Display the summary data frame\n"
   ]
  },
  {
   "cell_type": "code",
   "execution_count": null,
   "metadata": {
    "scrolled": true
   },
   "outputs": [],
   "source": [
    "unique_item_number = purchase_data['Item ID'].nunique()\n",
    "average_price = purchase_data['Price'].mean()\n",
    "purchase_number = purchase_data['Purchase ID'].count()\n",
    "total_revenue = purchase_data['Price'].sum()\n",
    "\n",
    "purchase_total_df = pd.DataFrame ({'Number of Unique Items':[unique_item_number],\n",
    "                                    'Average Purchase Price':\"$\"+str(round(average_price,2)),\n",
    "                                    'Total Number of Purchases':[purchase_number],\n",
    "                                    'Total Revenue':\"$\"+str(round(total_revenue,2))\n",
    "    \n",
    "})\n",
    "\n",
    "purchase_total_df"
   ]
  },
  {
   "cell_type": "markdown",
   "metadata": {},
   "source": [
    "## Gender Demographics"
   ]
  },
  {
   "cell_type": "markdown",
   "metadata": {},
   "source": [
    "* Percentage and Count of Male Players\n",
    "\n",
    "\n",
    "* Percentage and Count of Female Players\n",
    "\n",
    "\n",
    "* Percentage and Count of Other / Non-Disclosed\n",
    "\n",
    "\n"
   ]
  },
  {
   "cell_type": "code",
   "execution_count": null,
   "metadata": {},
   "outputs": [],
   "source": [
    "# Count unique players by gender\n",
    "gender_count = purchase_data.groupby('Gender')['SN'].nunique()\n",
    "\n",
    "# Sort the count by value in descending order\n",
    "gender_demogr_df = pd.DataFrame(gender_count)\n",
    "gender_demogr_df = gender_demogr_df.sort_values(['SN'], ascending = False)\n",
    "\n",
    "# Rename the column\n",
    "gender_demogr_df = gender_demogr_df.rename(columns={'SN':'Total Count'})\n",
    "\n",
    "# Add a percentage column\n",
    "gender_demogr_df['Percentage of Players'] = gender_demogr_df['Total Count']/total_player*100\n",
    "\n",
    "# Summary format mapping\n",
    "gender_demogr_df['Percentage of Players'] = gender_demogr_df['Percentage of Players'].map('{:.2f}%'.format)\n",
    "\n",
    "gender_demogr_df"
   ]
  },
  {
   "cell_type": "markdown",
   "metadata": {},
   "source": [
    "\n",
    "## Purchasing Analysis (Gender)"
   ]
  },
  {
   "cell_type": "markdown",
   "metadata": {},
   "source": [
    "* Run basic calculations to obtain purchase count, avg. purchase price, avg. purchase total per person etc. by gender\n",
    "\n",
    "\n",
    "\n",
    "\n",
    "* Create a summary data frame to hold the results\n",
    "\n",
    "\n",
    "* Optional: give the displayed data cleaner formatting\n",
    "\n",
    "\n",
    "* Display the summary data frame"
   ]
  },
  {
   "cell_type": "code",
   "execution_count": null,
   "metadata": {},
   "outputs": [],
   "source": [
    "#Run basic calculations to obtain purchase count, avg. purchase price, avg. purchase total per person etc. by gender\n",
    "purchase_count_gender = purchase_data['Gender'].value_counts()\n",
    "avg_price_gender = purchase_data.groupby('Gender')['Price'].mean()\n",
    "total_purchase = avg_price_gender*purchase_count_gender\n",
    "purchase_per_person = total_purchase/gender_demogr_df['Total Count']\n",
    "\n",
    "# Create a summary data frame to hold the results\n",
    "purchase_gender_df = pd.DataFrame ({'Purchase Count':purchase_count_gender,\n",
    "                                 'Average Purchase Price':avg_price_gender,\n",
    "                                 'Total Purchase Value': total_purchase,\n",
    "                                 'Avg Total Purchase per Person':purchase_per_person\n",
    "                                })\n",
    "\n",
    "# Clean format and display\n",
    "purchase_gender_df['Average Purchase Price'] = purchase_gender_df['Average Purchase Price'].map('${:.2f}'.format)\n",
    "purchase_gender_df['Total Purchase Value'] = purchase_gender_df['Total Purchase Value'].map('${:,.2f}'.format)\n",
    "purchase_gender_df['Avg Total Purchase per Person'] = purchase_gender_df['Avg Total Purchase per Person'].map('${:.2f}'.format)\n",
    "\n",
    "purchase_gender_df"
   ]
  },
  {
   "cell_type": "markdown",
   "metadata": {},
   "source": [
    "## Age Demographics"
   ]
  },
  {
   "cell_type": "markdown",
   "metadata": {},
   "source": [
    "* Establish bins for ages\n",
    "\n",
    "\n",
    "* Categorize the existing players using the age bins. Hint: use pd.cut()\n",
    "\n",
    "\n",
    "* Calculate the numbers and percentages by age group\n",
    "\n",
    "\n",
    "* Create a summary data frame to hold the results\n",
    "\n",
    "\n",
    "* Optional: round the percentage column to two decimal points\n",
    "\n",
    "\n",
    "* Display Age Demographics Table\n"
   ]
  },
  {
   "cell_type": "code",
   "execution_count": null,
   "metadata": {},
   "outputs": [],
   "source": [
    "# Find out the max and min age\n",
    "print(f'Max: {purchase_data[\"Age\"].max()}, Min: {purchase_data[\"Age\"].min()}')\n",
    "\n",
    "# Establish bins for ages and names for the bins\n",
    "bins = [0, 9, 14, 19, 24, 29, 34, 39, 50]\n",
    "age_names = ['<10','10-14', '15-19', '20-24', '25-29', '30-34', '35-39','40+']\n",
    "\n",
    "# Calculate the numbers and percentages by age group\n",
    "purchase_data[\"Age Group\"] = pd.cut(purchase_data['Age'], bins, labels = age_names, include_lowest = True)\n",
    "age_group_count = purchase_data.groupby('Age Group')['SN'].nunique()\n",
    "age_group_percent = age_group_count/total_player*100\n",
    "\n",
    "#Create a summary data frame to hold the results\n",
    "age_demogr_df = pd.DataFrame ({'Total Count':age_group_count,\n",
    "                                'Percentage of Players':age_group_percent,\n",
    "                                })\n",
    "age_demogr_df['Percentage of Players']=age_demogr_df['Percentage of Players'].map('{:.2f}%'.format)\n",
    "\n",
    "age_demogr_df"
   ]
  },
  {
   "cell_type": "markdown",
   "metadata": {},
   "source": [
    "## Purchasing Analysis (Age)"
   ]
  },
  {
   "cell_type": "markdown",
   "metadata": {},
   "source": [
    "* Bin the purchase_data data frame by age\n",
    "\n",
    "\n",
    "* Run basic calculations to obtain purchase count, avg. purchase price, avg. purchase total per person etc. in the table below\n",
    "\n",
    "\n",
    "* Create a summary data frame to hold the results\n",
    "\n",
    "\n",
    "* Optional: give the displayed data cleaner formatting\n",
    "\n",
    "\n",
    "* Display the summary data frame"
   ]
  },
  {
   "cell_type": "code",
   "execution_count": null,
   "metadata": {},
   "outputs": [],
   "source": [
    "# Run calculations to obtain purchase count, avg. purchase price, avg. purchase total per person etc\n",
    "purchase_count_age = purchase_data.groupby('Age Group')['Purchase ID'].count()\n",
    "avg_purchase_price_age = purchase_data.groupby('Age Group')['Price'].mean()\n",
    "total_purchase_age = purchase_data.groupby('Age Group')['Price'].sum()\n",
    "purchase_per_person_age = total_purchase_age/age_group_count\n",
    "\n",
    "# Summary data frame\n",
    "purchase_age_df = pd.DataFrame ({'Purchase Count':purchase_count_age,\n",
    "                                'Average Purchase Price':avg_purchase_price_age,\n",
    "                                'Total Purchase Value':total_purchase_age,\n",
    "                                'Avg Total Purchase per Person':purchase_per_person_age,\n",
    "                                })\n",
    "\n",
    "# Change summary table format\n",
    "purchase_age_df['Average Purchase Price']=purchase_age_df['Average Purchase Price'].map('${:.2f}'.format)\n",
    "purchase_age_df['Total Purchase Value']=purchase_age_df['Total Purchase Value'].map('${:,.2f}'.format)\n",
    "purchase_age_df['Avg Total Purchase per Person']=purchase_age_df['Avg Total Purchase per Person'].map('${:.2f}'.format)\n",
    "\n",
    "purchase_age_df"
   ]
  },
  {
   "cell_type": "markdown",
   "metadata": {},
   "source": [
    "## Top Spenders"
   ]
  },
  {
   "cell_type": "markdown",
   "metadata": {},
   "source": [
    "* Run basic calculations to obtain the results in the table below\n",
    "\n",
    "\n",
    "* Create a summary data frame to hold the results\n",
    "\n",
    "\n",
    "* Sort the total purchase value column in descending order\n",
    "\n",
    "\n",
    "* Optional: give the displayed data cleaner formatting\n",
    "\n",
    "\n",
    "* Display a preview of the summary data frame\n",
    "\n"
   ]
  },
  {
   "cell_type": "code",
   "execution_count": null,
   "metadata": {},
   "outputs": [],
   "source": [
    "# Run basic calculations for individual purchase\n",
    "individual_total_purchase = purchase_data.groupby('SN')['Price'].sum()\n",
    "individual_purchase_count = purchase_data.groupby('SN')['SN'].count()\n",
    "individual_avg_purchase = individual_total_purchase/individual_purchase_count\n",
    "\n",
    "# Summary data frame\n",
    "individual_purchase_df = pd.DataFrame ({'Purchase Count':individual_purchase_count,\n",
    "                                        'Average Purchase Price':individual_avg_purchase,\n",
    "                                        'Total Purchase Value':individual_total_purchase\n",
    "                                        })\n",
    "\n",
    "#Sort the total purchase value column in descending order\n",
    "individual_purchase_df = individual_purchase_df.sort_values(['Total Purchase Value'], ascending=False)\n",
    "\n",
    "\n",
    "# Clean format and display\n",
    "individual_purchase_df['Average Purchase Price'] = individual_purchase_df['Average Purchase Price'].map('${:.2f}'.format)\n",
    "individual_purchase_df['Total Purchase Value'] = individual_purchase_df['Total Purchase Value'].map('${:.2f}'.format)\n",
    "individual_purchase_df.head()"
   ]
  },
  {
   "cell_type": "markdown",
   "metadata": {},
   "source": [
    "## Most Popular Items"
   ]
  },
  {
   "cell_type": "markdown",
   "metadata": {},
   "source": [
    "* Retrieve the Item ID, Item Name, and Item Price columns\n",
    "\n",
    "\n",
    "* Group by Item ID and Item Name. Perform calculations to obtain purchase count, average item price, and total purchase value\n",
    "\n",
    "\n",
    "* Create a summary data frame to hold the results\n",
    "\n",
    "\n",
    "* Sort the purchase count column in descending order\n",
    "\n",
    "\n",
    "* Optional: give the displayed data cleaner formatting\n",
    "\n",
    "\n",
    "* Display a preview of the summary data frame\n",
    "\n"
   ]
  },
  {
   "cell_type": "code",
   "execution_count": null,
   "metadata": {},
   "outputs": [],
   "source": [
    "# New dataframe that groups data by Item ID and Item Name\n",
    "popular_item_df = purchase_data.groupby(['Item ID','Item Name'])\n",
    "\n",
    "# calculate purchase count, average item price, and total purchase value\n",
    "purchase_item_count = most_popular_item_df['Purchase ID'].count()\n",
    "avg_item_price = most_popular_item_df['Price'].mean()\n",
    "total_item_purchase = most_popular_item_df['Price'].sum()\n",
    "\n",
    "# Summary dataframe\n",
    "popular_item_df = pd.DataFrame ({'Purchase Count':purchase_item_count,\n",
    "                                'Item Price':avg_item_price,\n",
    "                                'Total Purchase Value':total_item_purchase\n",
    "                                })\n",
    "\n",
    "# Sort by purchase count\n",
    "popular_item_df = popular_item_df.sort_values(['Purchase Count'], ascending=False)\n",
    "\n",
    "# Clean the format\n",
    "popular_item_df['Item Price'] = popular_item_df['Item Price'].map('${:.2f}'.format)\n",
    "popular_item_df['Total Purchase Value'] = popular_item_df['Total Purchase Value'].map('${:.2f}'.format)\n",
    "\n",
    "popular_item_df.head()"
   ]
  },
  {
   "cell_type": "markdown",
   "metadata": {},
   "source": [
    "## Most Profitable Items"
   ]
  },
  {
   "cell_type": "markdown",
   "metadata": {},
   "source": [
    "* Sort the above table by total purchase value in descending order\n",
    "\n",
    "\n",
    "* Optional: give the displayed data cleaner formatting\n",
    "\n",
    "\n",
    "* Display a preview of the data frame\n",
    "\n"
   ]
  },
  {
   "cell_type": "code",
   "execution_count": null,
   "metadata": {
    "scrolled": true
   },
   "outputs": [],
   "source": [
    "# Make a copy of the item table and change string to float for column 'Total Purchase Value'\n",
    "popular_item_sort_df = popular_item_df.copy()\n",
    "popular_item_sort_df['Total Purchase Value'] = popular_item_sort_df['Total Purchase Value'].str.replace('$','').astype('float')\n",
    "\n",
    "# Sort popular item table by total purchase value in descending order\n",
    "popular_item_sort_df = popular_item_sort_df.sort_values(['Total Purchase Value'], ascending=False)\n",
    "popular_item_sort_df['Total Purchase Value'] = popular_item_sort_df['Total Purchase Value'].map('${:.2f}'.format)\n",
    "\n",
    "popular_item_sort_df.head()"
   ]
  },
  {
   "cell_type": "code",
   "execution_count": null,
   "metadata": {},
   "outputs": [],
   "source": []
  }
 ],
 "metadata": {
  "anaconda-cloud": {},
  "kernel_info": {
   "name": "python3"
  },
  "kernelspec": {
   "display_name": "Python 3",
   "language": "python",
   "name": "python3"
  },
  "language_info": {
   "codemirror_mode": {
    "name": "ipython",
    "version": 3
   },
   "file_extension": ".py",
   "mimetype": "text/x-python",
   "name": "python",
   "nbconvert_exporter": "python",
   "pygments_lexer": "ipython3",
   "version": "3.8.8"
  },
  "latex_envs": {
   "LaTeX_envs_menu_present": true,
   "autoclose": false,
   "autocomplete": true,
   "bibliofile": "biblio.bib",
   "cite_by": "apalike",
   "current_citInitial": 1,
   "eqLabelWithNumbers": true,
   "eqNumInitial": 1,
   "hotkeys": {
    "equation": "Ctrl-E",
    "itemize": "Ctrl-I"
   },
   "labels_anchors": false,
   "latex_user_defs": false,
   "report_style_numbering": false,
   "user_envs_cfg": false
  },
  "nteract": {
   "version": "0.2.0"
  }
 },
 "nbformat": 4,
 "nbformat_minor": 2
}
